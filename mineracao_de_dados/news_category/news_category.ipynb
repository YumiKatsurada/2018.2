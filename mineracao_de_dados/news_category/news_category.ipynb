{
 "cells": [
  {
   "cell_type": "code",
   "execution_count": 43,
   "metadata": {},
   "outputs": [
    {
     "data": {
      "text/plain": [
       "short_description    0\n",
       "link                 0\n",
       "headline             0\n",
       "date                 0\n",
       "category             0\n",
       "authors              0\n",
       "dtype: int64"
      ]
     },
     "execution_count": 43,
     "metadata": {},
     "output_type": "execute_result"
    }
   ],
   "source": [
    "import pandas as pd\n",
    "import os \n",
    "import json\n",
    "import seaborn as sb\n",
    "\n",
    "\n",
    "df = pd.read_json('News_Category_Dataset.json', lines=True)\n",
    "\n",
    "df\n",
    "\n",
    "#newdf = df.category[df.category=='crime'] \n",
    "\n",
    "#newdf\n",
    "\n",
    "\n",
    "#agrupa por categoria\n",
    "#df.groupby(by='category')['category'].count().sort_values(ascending=False)\n",
    "\n",
    "#restringe o dataset para registros em que a categoria é crime ou comédia\n",
    "newdf = df.loc[df['category'].isin(['CRIME', 'COMEDY'])]\n",
    "\n",
    "newdf\n",
    "\n",
    "#verifica se há valor faltante\n",
    "newdf.isnull().sum().sort_values(ascending=False)\n",
    "\n",
    "\n",
    "\n"
   ]
  },
  {
   "cell_type": "code",
   "execution_count": null,
   "metadata": {},
   "outputs": [],
   "source": []
  }
 ],
 "metadata": {
  "kernelspec": {
   "display_name": "Python 3",
   "language": "python",
   "name": "python3"
  },
  "language_info": {
   "codemirror_mode": {
    "name": "ipython",
    "version": 3
   },
   "file_extension": ".py",
   "mimetype": "text/x-python",
   "name": "python",
   "nbconvert_exporter": "python",
   "pygments_lexer": "ipython3",
   "version": "3.6.5"
  }
 },
 "nbformat": 4,
 "nbformat_minor": 2
}
